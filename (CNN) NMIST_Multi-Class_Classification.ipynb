{
 "cells": [
  {
   "cell_type": "markdown",
   "id": "d2b7ed5f",
   "metadata": {},
   "source": [
    "# 1. Problem Statement"
   ]
  },
  {
   "cell_type": "markdown",
   "id": "e906b5fa",
   "metadata": {},
   "source": [
    "We need to model a NN that can predict hand written digits. \n",
    "\n",
    "We are using MNIST dataset for training and evaluating the model."
   ]
  },
  {
   "cell_type": "markdown",
   "id": "f49dd0f0",
   "metadata": {},
   "source": [
    "# 2. Importing Libraries"
   ]
  },
  {
   "cell_type": "code",
   "execution_count": 1,
   "id": "b2ab2ef5",
   "metadata": {},
   "outputs": [],
   "source": [
    "import numpy as np\n",
    "import matplotlib.pyplot as plt\n",
    "import seaborn as sns\n",
    "sns.set()\n",
    "\n",
    "import tensorflow_datasets as tfds\n",
    "\n",
    "import tensorflow as tf"
   ]
  },
  {
   "cell_type": "markdown",
   "id": "066cc375",
   "metadata": {},
   "source": [
    "## 3. Getting Dataset"
   ]
  },
  {
   "cell_type": "markdown",
   "id": "067f1e86",
   "metadata": {},
   "source": [
    "Using tensorflow_datasets to import the MNIST dataset."
   ]
  },
  {
   "cell_type": "code",
   "execution_count": 2,
   "id": "72c41b5e",
   "metadata": {},
   "outputs": [
    {
     "name": "stdout",
     "output_type": "stream",
     "text": [
      "<_OptionsDataset shapes: ((28, 28, 1), ()), types: (tf.uint8, tf.int64)> \n",
      "\n",
      "<_OptionsDataset shapes: ((28, 28, 1), ()), types: (tf.uint8, tf.int64)>\n"
     ]
    }
   ],
   "source": [
    "[ds_train, ds_test], info = tfds.load(\"mnist\",\n",
    "                                      split = ['train', 'test'],\n",
    "                                      shuffle_files = True,\n",
    "                                      with_info = True,\n",
    "                                      as_supervised = True)\n",
    "\n",
    "print(ds_train, '\\n')\n",
    "print(ds_test)"
   ]
  },
  {
   "cell_type": "markdown",
   "id": "3fb7c045",
   "metadata": {},
   "source": [
    "___\n",
    "tfds.load(name, split, shuffle_files, with_info, as_supervised)\n",
    "\n",
    "split --> which split to read. (refer info variable below)\n",
    "\n",
    "shuffle_files --> control whether to shuffle the files between each epoch (TFDS store big datasets in multiple smaller files).\n",
    "\n",
    "as_supervised --> True, loads the data in a 2 - tuple structure. [ input, target ]\n",
    "\n",
    "with_info = True, provides a tuple containing info about version, features, # samples of the dataset\n",
    "\n",
    "___"
   ]
  },
  {
   "cell_type": "code",
   "execution_count": 3,
   "id": "92efe64e",
   "metadata": {},
   "outputs": [
    {
     "data": {
      "text/plain": [
       "tfds.core.DatasetInfo(\n",
       "    name='mnist',\n",
       "    version=1.0.0,\n",
       "    description='The MNIST database of handwritten digits.',\n",
       "    urls=['https://storage.googleapis.com/cvdf-datasets/mnist/'],\n",
       "    features=FeaturesDict({\n",
       "        'image': Image(shape=(28, 28, 1), dtype=tf.uint8),\n",
       "        'label': ClassLabel(shape=(), dtype=tf.int64, num_classes=10),\n",
       "    }),\n",
       "    total_num_examples=70000,\n",
       "    splits={\n",
       "        'test': 10000,\n",
       "        'train': 60000,\n",
       "    },\n",
       "    supervised_keys=('image', 'label'),\n",
       "    citation=\"\"\"@article{lecun2010mnist,\n",
       "      title={MNIST handwritten digit database},\n",
       "      author={LeCun, Yann and Cortes, Corinna and Burges, CJ},\n",
       "      journal={ATT Labs [Online]. Available: http://yann. lecun. com/exdb/mnist},\n",
       "      volume={2},\n",
       "      year={2010}\n",
       "    }\"\"\",\n",
       "    redistribution_info=,\n",
       ")"
      ]
     },
     "execution_count": 3,
     "metadata": {},
     "output_type": "execute_result"
    }
   ],
   "source": [
    "info"
   ]
  },
  {
   "cell_type": "markdown",
   "id": "b4f58e5c",
   "metadata": {},
   "source": [
    "## 4. Preprocessing the data"
   ]
  },
  {
   "cell_type": "markdown",
   "id": "ba2a28ba",
   "metadata": {},
   "source": [
    "### Getting the number of validation set and test set\n",
    "___\n",
    "tf.cast(x, dtype) --> casts (converts) a variable into a given datatype.\n",
    "and changing it to the format of tensor.\n",
    "\n",
    "___"
   ]
  },
  {
   "cell_type": "code",
   "execution_count": 4,
   "id": "6f8f6c91",
   "metadata": {},
   "outputs": [
    {
     "name": "stdout",
     "output_type": "stream",
     "text": [
      "6000.0\n",
      "10000 \n",
      "\n",
      "tf.Tensor(6000, shape=(), dtype=int64) \n",
      "\n",
      "tf.Tensor(10000, shape=(), dtype=int64)\n"
     ]
    }
   ],
   "source": [
    "num_validation_samples = 0.1 * info.splits['train'].num_examples\n",
    "print(num_validation_samples)\n",
    "num_validation_samples = tf.cast(num_validation_samples, tf.int64)\n",
    "\n",
    "num_test_samples = info.splits['test'].num_examples\n",
    "print(num_test_samples,'\\n')\n",
    "num_test_samples = tf.cast(num_test_samples, tf.int64)\n",
    "\n",
    "print(num_validation_samples,'\\n')\n",
    "print(num_test_samples)"
   ]
  },
  {
   "cell_type": "markdown",
   "id": "de5e8ca6",
   "metadata": {},
   "source": [
    "### Scaling the dataset"
   ]
  },
  {
   "cell_type": "code",
   "execution_count": 5,
   "id": "d98beeb5",
   "metadata": {},
   "outputs": [],
   "source": [
    "def scale(image, label):\n",
    "    image = tf.cast(image, tf.float32)\n",
    "    image /= 255.\n",
    "    return image, label\n",
    "\n",
    "# using the map function and user defined scale function to scale the datasets.\n",
    "scaled_train_and_validation_data = ds_train.map(scale)\n",
    "\n",
    "test_data = ds_test.map(scale)"
   ]
  },
  {
   "cell_type": "markdown",
   "id": "bf901be2",
   "metadata": {},
   "source": [
    "dataset.map(**function**) --> applies a custom transformation to a given dataset. It takes an input a function which determines the transformation.\n",
    "___"
   ]
  },
  {
   "cell_type": "markdown",
   "id": "84afcacf",
   "metadata": {},
   "source": [
    "### Shuffling| seperating cross validation set and test set."
   ]
  },
  {
   "cell_type": "markdown",
   "id": "245cef39",
   "metadata": {},
   "source": [
    "Using shuffling to make the data as random as possible. \n",
    "\n",
    "___\n",
    "\n",
    "shuffle(buffer_size)--> This dataset fills a buffer with `buffer_size` elements, then randomly\n",
    "samples elements from this buffer, replacing the selected elements with new\n",
    "elements.\n",
    "\n",
    "___\n",
    "if buffer_size = 1; no shuffling will actually happen.\n",
    "\n",
    "if buffer_size >= num_samples; shuffling will happen at once (uniformly)\n",
    "\n",
    "if 1< buffer_size < num_samples; we will be optimizng the computational power.\n",
    "\n",
    "___"
   ]
  },
  {
   "cell_type": "code",
   "execution_count": 6,
   "id": "a2c07335",
   "metadata": {},
   "outputs": [],
   "source": [
    "# shuffling\n",
    "BUFFER_SIZE = 10000\n",
    "shuffled_train_and_validation_data = scaled_train_and_validation_data.shuffle(BUFFER_SIZE)\n",
    "# notice how we are randomizing only the training set.\n",
    "\n",
    "# seperating cv and train set.\n",
    "validation_data = shuffled_train_and_validation_data.take(num_validation_samples)\n",
    "\n",
    "train_data = shuffled_train_and_validation_data.skip(num_validation_samples)"
   ]
  },
  {
   "cell_type": "code",
   "execution_count": 7,
   "id": "825bae39",
   "metadata": {},
   "outputs": [
    {
     "name": "stdout",
     "output_type": "stream",
     "text": [
      "<SkipDataset shapes: ((28, 28, 1), ()), types: (tf.float32, tf.int64)> \n",
      "\n",
      "<TakeDataset shapes: ((28, 28, 1), ()), types: (tf.float32, tf.int64)> \n",
      "\n",
      "<MapDataset shapes: ((28, 28, 1), ()), types: (tf.float32, tf.int64)>\n"
     ]
    }
   ],
   "source": [
    "print(train_data,'\\n')\n",
    "print(validation_data,'\\n')\n",
    "print(test_data)"
   ]
  },
  {
   "cell_type": "markdown",
   "id": "515f0a85",
   "metadata": {},
   "source": [
    "### Creating batches"
   ]
  },
  {
   "cell_type": "markdown",
   "id": "f85c3bb8",
   "metadata": {},
   "source": [
    "method `.batch()` adds new column to our tensor indicating how many sample it should take in each batch.\n",
    "\n",
    "___\n",
    "we only use batch as a technique to increase the training speed.\n",
    "<br>So, training needs batch.\n",
    "\n",
    "Does cv also needs it? No, as its already trained.\n",
    "\n",
    "But, the model expects all our inputs as same dimension thus cv requires the column for batch size and so does test.\n",
    "\n",
    "___"
   ]
  },
  {
   "cell_type": "code",
   "execution_count": 8,
   "id": "0a503b54",
   "metadata": {},
   "outputs": [],
   "source": [
    "BATCH_SIZE = 100\n",
    "\n",
    "train_data = train_data.batch(BATCH_SIZE)\n",
    "\n",
    "validation_data = validation_data.batch(num_validation_samples)\n",
    "\n",
    "test_data = test_data.batch(num_test_samples)\n",
    "\n",
    "# iter() creates an object which can be iterated one element at a time.\n",
    "# eg: in a for loop or while loop\n",
    "validation_inputs, validation_targets = next(iter(validation_data))"
   ]
  },
  {
   "cell_type": "code",
   "execution_count": 9,
   "id": "5c0ef7d8",
   "metadata": {},
   "outputs": [
    {
     "name": "stdout",
     "output_type": "stream",
     "text": [
      "<BatchDataset shapes: ((None, 28, 28, 1), (None,)), types: (tf.float32, tf.int64)> \n",
      "\n",
      "<BatchDataset shapes: ((None, 28, 28, 1), (None,)), types: (tf.float32, tf.int64)> \n",
      "\n",
      "<BatchDataset shapes: ((None, 28, 28, 1), (None,)), types: (tf.float32, tf.int64)>\n"
     ]
    }
   ],
   "source": [
    "print(train_data,'\\n')\n",
    "print(validation_data,'\\n')\n",
    "print(test_data)"
   ]
  },
  {
   "cell_type": "code",
   "execution_count": 10,
   "id": "57d6c900",
   "metadata": {},
   "outputs": [
    {
     "name": "stdout",
     "output_type": "stream",
     "text": [
      "tf.Tensor: (6000, 28, 28, 1) \n",
      "\n",
      "tf.Tensor: (6000,)\n"
     ]
    }
   ],
   "source": [
    "print('tf.Tensor:',validation_inputs.shape,'\\n')\n",
    "print('tf.Tensor:',validation_targets.shape,)"
   ]
  },
  {
   "cell_type": "markdown",
   "id": "f0c21d72",
   "metadata": {},
   "source": [
    "## 5. Model"
   ]
  },
  {
   "cell_type": "code",
   "execution_count": 11,
   "id": "fb4d0cd7",
   "metadata": {},
   "outputs": [
    {
     "name": "stdout",
     "output_type": "stream",
     "text": [
      "Model: \"sequential\"\n",
      "_________________________________________________________________\n",
      "Layer (type)                 Output Shape              Param #   \n",
      "=================================================================\n",
      "conv2d (Conv2D)              (None, 26, 26, 8)         80        \n",
      "_________________________________________________________________\n",
      "max_pooling2d (MaxPooling2D) (None, 13, 13, 8)         0         \n",
      "_________________________________________________________________\n",
      "flatten (Flatten)            (None, 1352)              0         \n",
      "_________________________________________________________________\n",
      "dense (Dense)                (None, 40)                54120     \n",
      "_________________________________________________________________\n",
      "dense_1 (Dense)              (None, 10)                410       \n",
      "=================================================================\n",
      "Total params: 54,610\n",
      "Trainable params: 54,610\n",
      "Non-trainable params: 0\n",
      "_________________________________________________________________\n"
     ]
    }
   ],
   "source": [
    "inputs_size = 784\n",
    "output_size = 10\n",
    "\n",
    "model = tf.keras.Sequential([\n",
    "    tf.keras.layers.Conv2D(8, (3,3),activation = 'relu', input_shape = (28, 28, 1)),    \n",
    "    tf.keras.layers.MaxPool2D(),\n",
    "    \n",
    "    tf.keras.layers.Flatten(),\n",
    "    tf.keras.layers.Dense(40, activation = 'relu'),\n",
    "    tf.keras.layers.Dense(output_size, activation = 'softmax')\n",
    "])\n",
    "\n",
    "model.summary()"
   ]
  },
  {
   "cell_type": "code",
   "execution_count": 12,
   "id": "af107252",
   "metadata": {},
   "outputs": [],
   "source": [
    "model.compile(optimizer = 'adam',\n",
    "              loss = tf.keras.losses.SparseCategoricalCrossentropy(),\n",
    "              metrics = ['accuracy'],\n",
    "             )"
   ]
  },
  {
   "cell_type": "code",
   "execution_count": 13,
   "id": "4b69d476",
   "metadata": {},
   "outputs": [
    {
     "name": "stdout",
     "output_type": "stream",
     "text": [
      "Epoch 1/100\n",
      "540/540 - 6s - loss: 0.3729 - accuracy: 0.8944 - val_loss: 0.1938 - val_accuracy: 0.9460\n",
      "Epoch 2/100\n",
      "540/540 - 6s - loss: 0.1368 - accuracy: 0.9607 - val_loss: 0.1241 - val_accuracy: 0.9647\n",
      "Epoch 3/100\n",
      "540/540 - 6s - loss: 0.0960 - accuracy: 0.9719 - val_loss: 0.1099 - val_accuracy: 0.9693\n",
      "Epoch 4/100\n",
      "540/540 - 6s - loss: 0.0776 - accuracy: 0.9769 - val_loss: 0.0821 - val_accuracy: 0.9765\n",
      "Epoch 5/100\n",
      "540/540 - 6s - loss: 0.0647 - accuracy: 0.9807 - val_loss: 0.0712 - val_accuracy: 0.9795\n",
      "Epoch 6/100\n",
      "540/540 - 6s - loss: 0.0544 - accuracy: 0.9839 - val_loss: 0.0724 - val_accuracy: 0.9785\n",
      "Epoch 7/100\n",
      "540/540 - 6s - loss: 0.0478 - accuracy: 0.9861 - val_loss: 0.0635 - val_accuracy: 0.9828\n",
      "Epoch 8/100\n",
      "540/540 - 6s - loss: 0.0428 - accuracy: 0.9874 - val_loss: 0.0519 - val_accuracy: 0.9863\n",
      "Epoch 9/100\n",
      "540/540 - 6s - loss: 0.0380 - accuracy: 0.9892 - val_loss: 0.0474 - val_accuracy: 0.9863\n",
      "Epoch 10/100\n",
      "540/540 - 6s - loss: 0.0326 - accuracy: 0.9901 - val_loss: 0.0488 - val_accuracy: 0.9860\n",
      "Epoch 11/100\n",
      "540/540 - 6s - loss: 0.0290 - accuracy: 0.9912 - val_loss: 0.0413 - val_accuracy: 0.9895\n",
      "Epoch 12/100\n",
      "540/540 - 6s - loss: 0.0270 - accuracy: 0.9924 - val_loss: 0.0336 - val_accuracy: 0.9900\n",
      "Epoch 13/100\n",
      "540/540 - 6s - loss: 0.0231 - accuracy: 0.9934 - val_loss: 0.0332 - val_accuracy: 0.9920\n",
      "Epoch 14/100\n",
      "540/540 - 6s - loss: 0.0215 - accuracy: 0.9939 - val_loss: 0.0344 - val_accuracy: 0.9892\n",
      "Epoch 15/100\n",
      "540/540 - 6s - loss: 0.0183 - accuracy: 0.9949 - val_loss: 0.0281 - val_accuracy: 0.9908\n",
      "Epoch 16/100\n",
      "540/540 - 6s - loss: 0.0161 - accuracy: 0.9953 - val_loss: 0.0269 - val_accuracy: 0.9920\n",
      "Epoch 17/100\n",
      "540/540 - 6s - loss: 0.0144 - accuracy: 0.9960 - val_loss: 0.0218 - val_accuracy: 0.9930\n",
      "Epoch 18/100\n",
      "540/540 - 6s - loss: 0.0129 - accuracy: 0.9962 - val_loss: 0.0221 - val_accuracy: 0.9937\n",
      "Epoch 19/100\n",
      "540/540 - 6s - loss: 0.0124 - accuracy: 0.9963 - val_loss: 0.0218 - val_accuracy: 0.9935\n",
      "Epoch 20/100\n",
      "540/540 - 6s - loss: 0.0105 - accuracy: 0.9968 - val_loss: 0.0158 - val_accuracy: 0.9950\n",
      "Epoch 21/100\n",
      "540/540 - 6s - loss: 0.0088 - accuracy: 0.9976 - val_loss: 0.0186 - val_accuracy: 0.9947\n",
      "Epoch 22/100\n",
      "540/540 - 6s - loss: 0.0083 - accuracy: 0.9976 - val_loss: 0.0159 - val_accuracy: 0.9955\n"
     ]
    },
    {
     "data": {
      "text/plain": [
       "<tensorflow.python.keras.callbacks.History at 0x1f2f4f0deb0>"
      ]
     },
     "execution_count": 13,
     "metadata": {},
     "output_type": "execute_result"
    }
   ],
   "source": [
    "num_epochs = 100\n",
    "\n",
    "model.fit(train_data, epochs = num_epochs,\n",
    "         validation_data = (validation_inputs, validation_targets),\n",
    "         verbose = 2,\n",
    "          callbacks = tf.keras.callbacks.EarlyStopping(monitor='val_loss', patience=2)\n",
    "         )"
   ]
  },
  {
   "cell_type": "markdown",
   "id": "993bf9bd",
   "metadata": {},
   "source": [
    "___\n",
    "**(0.9* 60000)/100 = 540** batches per epoch.\n",
    "\n",
    "___"
   ]
  },
  {
   "cell_type": "markdown",
   "id": "333ced8d",
   "metadata": {},
   "source": [
    "### Check for overfitting"
   ]
  },
  {
   "cell_type": "markdown",
   "id": "387d080e",
   "metadata": {},
   "source": [
    "As long as reg line(train_cost) is above blue (cv_cost) at the end, the model is not overfitting."
   ]
  },
  {
   "cell_type": "code",
   "execution_count": 14,
   "id": "061bf6fd",
   "metadata": {},
   "outputs": [
    {
     "data": {
      "image/png": "[encoded data removed]",
      "text/plain": [
       "<Figure size 2000x1000 with 1 Axes>"
      ]
     },
     "metadata": {},
     "output_type": "display_data"
    }
   ],
   "source": [
    "fig, ax = plt.subplots(figsize = (20,10))\n",
    "ax = plt.plot(model.history.history['loss'], color = 'Blue')\n",
    "ax = plt.plot(model.history.history['val_loss'], color = 'red')\n",
    "plt.title('Cost_History of the model w.r.t iterations', fontsize = 30)\n",
    "plt.xlabel('Number of iterations', fontsize = 20)\n",
    "plt.ylabel('Cost', fontsize = 20)\n",
    "plt.legend(['Train Cost', 'Cross Val Cost'], fontsize = 20)\n",
    "plt.show()"
   ]
  },
  {
   "cell_type": "markdown",
   "id": "e639716e",
   "metadata": {},
   "source": [
    "# 6. Testing using test data"
   ]
  },
  {
   "cell_type": "code",
   "execution_count": 15,
   "id": "7423b8bf",
   "metadata": {},
   "outputs": [
    {
     "name": "stdout",
     "output_type": "stream",
     "text": [
      "1/1 [==============================] - 0s 11ms/step - loss: 0.0611 - accuracy: 0.9836\n"
     ]
    }
   ],
   "source": [
    "test_loss, test_accuracy = model.evaluate(test_data)"
   ]
  },
  {
   "cell_type": "code",
   "execution_count": 16,
   "id": "b0909ff1",
   "metadata": {},
   "outputs": [
    {
     "name": "stdout",
     "output_type": "stream",
     "text": [
      "Test loss:0.061. Test accuracy:0.984\n"
     ]
    }
   ],
   "source": [
    "print(f'Test loss:{round(test_loss, 3)}. Test accuracy:{round(test_accuracy, 3)}')"
   ]
  },
  {
   "cell_type": "code",
   "execution_count": null,
   "id": "4fe01423",
   "metadata": {},
   "outputs": [],
   "source": []
  }
 ],
 "metadata": {
  "kernelspec": {
   "display_name": "Python 3 (ipykernel)",
   "language": "python",
   "name": "python3"
  },
  "language_info": {
   "codemirror_mode": {
    "name": "ipython",
    "version": 3
   },
   "file_extension": ".py",
   "mimetype": "text/x-python",
   "name": "python",
   "nbconvert_exporter": "python",
   "pygments_lexer": "ipython3",
   "version": "3.8.13"
  }
 },
 "nbformat": 4,
 "nbformat_minor": 5
}
